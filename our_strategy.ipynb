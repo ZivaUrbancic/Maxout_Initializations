{
 "cells": [
  {
   "cell_type": "markdown",
   "metadata": {},
   "source": [
    "# Our initialization strategy\n",
    "\n",
    "This notebook implements the algorithms for computing weights and biases of our new initialization strategy for neural networks. The neural networks we work with have (rank $k$) max-out activation functions, which means each unit performs\n",
    "$$x \\mapsto max(a_{i, 1}w_i*x + b_{i, 1}, \\ a_{i, 2}w_i*x + b_{i, 2},\\ \\ldots \\ ,\\ a_{i, k}w_i*x + b_{i, k} )$$\n",
    "on the input.\n",
    "\n",
    "The proposed initialization strategy follows three steps (per layer of size $m_l$):\n",
    "1. Sample weights $\\{ w_i \\}_{i = 1, \\ldots, m_l}$ from the unit sphere (uniformly) for all units in the layer.\n",
    "2. Pick a subset $X \\subseteq \\mathcal{X}$ of size $N$ of the unlabelled data set (where $N$ is a parameter set by the user).\n",
    "3. For unit $i$, pick $\\{ a_{i, j} \\}_{j = 1, \\ldots, k} \\subseteq \\mathbb{R}$. Set $\\{ b_{i, j} \\}_{j = 1, \\ldots, k}$ so that the linear regions $R_{i, j}$ contain approximately the same number of points in $X$, i.e. $|X \\cap R_{i, j}|$ is independent of $j$."
   ]
  },
  {
   "cell_type": "code",
   "execution_count": 214,
   "metadata": {},
   "outputs": [],
   "source": [
    "import numpy as np\n",
    "import matplotlib.pyplot as plt\n",
    "import math\n",
    "\n",
    "np.random.seed(65432)"
   ]
  },
  {
   "cell_type": "code",
   "execution_count": 215,
   "metadata": {},
   "outputs": [],
   "source": [
    "k = 3     # rank of max-out\n",
    "m_l = 16   # size of the layer"
   ]
  },
  {
   "cell_type": "markdown",
   "metadata": {},
   "source": [
    "## Generating an input dataset\n",
    "\n",
    "To test our method, we generate a dataset of points in $\\mathbb{R}^3$. Since this data set will be \"small enough\", the step 2 of the initialization strategy can be skipped. "
   ]
  },
  {
   "cell_type": "code",
   "execution_count": 216,
   "metadata": {},
   "outputs": [],
   "source": [
    "d = 2      # dimension of the ambient space\n",
    "N = 30   # size of the data set"
   ]
  },
  {
   "cell_type": "code",
   "execution_count": 217,
   "metadata": {},
   "outputs": [],
   "source": [
    "X = np.random.normal(0, 1, (N, d))"
   ]
  },
  {
   "cell_type": "markdown",
   "metadata": {},
   "source": [
    "Let us visualize the generated data"
   ]
  },
  {
   "cell_type": "code",
   "execution_count": 218,
   "metadata": {},
   "outputs": [],
   "source": [
    "xs = X[:, 0]\n",
    "ys = X[:, 1]\n",
    "#zs = X[:, 2]"
   ]
  },
  {
   "cell_type": "code",
   "execution_count": 219,
   "metadata": {},
   "outputs": [
    {
     "data": {
      "text/plain": [
       "<matplotlib.collections.PathCollection at 0x7f81584a5df0>"
      ]
     },
     "execution_count": 219,
     "metadata": {},
     "output_type": "execute_result"
    },
    {
     "data": {
      "image/png": "[encoded data removed]",
      "text/plain": [
       "<Figure size 432x288 with 1 Axes>"
      ]
     },
     "metadata": {
      "needs_background": "light"
     },
     "output_type": "display_data"
    }
   ],
   "source": [
    "fig = plt.figure()\n",
    "ax = fig.add_subplot()#projection='2d')\n",
    "ax.scatter(xs, ys)#, zs)"
   ]
  },
  {
   "cell_type": "markdown",
   "metadata": {},
   "source": [
    "## Sampling weights\n",
    "\n",
    "To sample weights uniformly, we will sample them from a normal distribution around the origin and then normalize them."
   ]
  },
  {
   "cell_type": "code",
   "execution_count": 220,
   "metadata": {},
   "outputs": [],
   "source": [
    "def sample_weights(nr_weights, dimension):\n",
    "    W = np.random.normal(0, 1, (nr_weights, dimension))\n",
    "    \n",
    "    for i in range(nr_weights):\n",
    "        w_i = W[i,:]\n",
    "        while np.array_equal(w_i, np.zeros(dimension)):\n",
    "            w_i = np.random.normal(0, 1, (1, dimension))\n",
    "        norm = np.linalg.norm(w_i)\n",
    "        W[i, :] = w_i/norm\n",
    "    return W            "
   ]
  },
  {
   "cell_type": "code",
   "execution_count": 221,
   "metadata": {},
   "outputs": [],
   "source": [
    "W = sample_weights(m_l, d)"
   ]
  },
  {
   "cell_type": "markdown",
   "metadata": {},
   "source": [
    "Let us visualize the weights. "
   ]
  },
  {
   "cell_type": "code",
   "execution_count": 222,
   "metadata": {},
   "outputs": [],
   "source": [
    "Wxs=W[:, 0]\n",
    "Wys=W[:, 1]\n",
    "#Wzs=W[:, 2]"
   ]
  },
  {
   "cell_type": "code",
   "execution_count": 223,
   "metadata": {},
   "outputs": [
    {
     "data": {
      "text/plain": [
       "<matplotlib.collections.PathCollection at 0x7f815879bee0>"
      ]
     },
     "execution_count": 223,
     "metadata": {},
     "output_type": "execute_result"
    },
    {
     "data": {
      "image/png": "[encoded data removed]",
      "text/plain": [
       "<Figure size 432x288 with 1 Axes>"
      ]
     },
     "metadata": {
      "needs_background": "light"
     },
     "output_type": "display_data"
    }
   ],
   "source": [
    "fig1 = plt.figure()\n",
    "Wax = fig1.add_subplot()#projection='3d')\n",
    "Wax.scatter(Wxs, Wys)#, Wzs)"
   ]
  },
  {
   "cell_type": "markdown",
   "metadata": {},
   "source": [
    "## Sampling the borders of linear regions\n",
    "\n",
    "In this part we focus on a single unit with weight $w_0$. First compute the (length of the) projections of data points in $X$ onto the line $\\{ \\alpha w_0 \\}_{\\alpha \\in \\mathbb{R}}$."
   ]
  },
  {
   "cell_type": "code",
   "execution_count": 224,
   "metadata": {},
   "outputs": [],
   "source": [
    "def calculate_projections(w, data):\n",
    "    data_size, b = data.shape \n",
    "    c = 0\n",
    "    proj = np.zeros(data_size)\n",
    "    for x in data:\n",
    "        proj[c] = np.dot(x, w)\n",
    "        c= c+1\n",
    "    return proj"
   ]
  },
  {
   "cell_type": "code",
   "execution_count": 225,
   "metadata": {},
   "outputs": [
    {
     "name": "stdout",
     "output_type": "stream",
     "text": [
      "[-1.71093138 -1.33574479 -1.07724901 -0.91576193 -0.82358048 -0.74316731\n",
      " -0.70124751 -0.46498326 -0.4196837  -0.38326554 -0.11735434 -0.09108293\n",
      " -0.04933371  0.05943927  0.19170363  0.29212331  0.33011114  0.36780127\n",
      "  0.38616974  0.51258211  0.54254857  0.55924196  0.70311428  0.71162639\n",
      "  0.71568038  0.81239987  0.94107017  1.39911899  1.72638853  1.92231662]\n"
     ]
    }
   ],
   "source": [
    "proj = np.sort(calculate_projections(W[0, :], X))\n",
    "print(proj)"
   ]
  },
  {
   "cell_type": "markdown",
   "metadata": {},
   "source": [
    "We need to put $k-1$ lines in between these projections so that the number of projections between each consecutive lines is the same. We calculate the batch size and the splits."
   ]
  },
  {
   "cell_type": "code",
   "execution_count": 226,
   "metadata": {},
   "outputs": [
    {
     "name": "stdout",
     "output_type": "stream",
     "text": [
      "10\n"
     ]
    }
   ],
   "source": [
    "batch_size = math.floor(N/k)\n",
    "print(batch_size)"
   ]
  },
  {
   "cell_type": "code",
   "execution_count": 227,
   "metadata": {},
   "outputs": [],
   "source": [
    "def compute_splits(projections, batch_size, k):\n",
    "    splits = np.zeros(k-1)\n",
    "    for i in range (k-1):\n",
    "        splits[i]=1/2*(projections[(i+1)*batch_size - 1] + projections[(i+1)*batch_size])\n",
    "    return splits"
   ]
  },
  {
   "cell_type": "code",
   "execution_count": 228,
   "metadata": {},
   "outputs": [
    {
     "data": {
      "text/plain": [
       "array([-0.25030994,  0.52756534])"
      ]
     },
     "execution_count": 228,
     "metadata": {},
     "output_type": "execute_result"
    }
   ],
   "source": [
    "splits = compute_splits(proj, batch_size, k)\n",
    "splits"
   ]
  },
  {
   "cell_type": "markdown",
   "metadata": {},
   "source": [
    "We sample the factors $\\{ a_{0, j}\\}_{j=1, \\ldots, k}$ from $\\mathcal{U}([0, 1])$ and choose $\\{ b_{0, j}\\}_{j=1, \\ldots, k}$ according to the criteria in step 3 above."
   ]
  },
  {
   "cell_type": "code",
   "execution_count": 229,
   "metadata": {},
   "outputs": [],
   "source": [
    "ai = np.random.uniform(0, 1, (k, 1))"
   ]
  },
  {
   "cell_type": "code",
   "execution_count": 230,
   "metadata": {},
   "outputs": [
    {
     "data": {
      "text/plain": [
       "array([[0.6303626 ],\n",
       "       [0.62098328],\n",
       "       [0.3930228 ]])"
      ]
     },
     "execution_count": 230,
     "metadata": {},
     "output_type": "execute_result"
    }
   ],
   "source": [
    "ai"
   ]
  },
  {
   "cell_type": "markdown",
   "metadata": {},
   "source": [
    "Assume you choose a $b_0 = 0.01$."
   ]
  },
  {
   "cell_type": "code",
   "execution_count": 231,
   "metadata": {},
   "outputs": [],
   "source": [
    "b_0 = 0.01"
   ]
  },
  {
   "cell_type": "markdown",
   "metadata": {},
   "source": [
    "Given $b_0$ we can now inductively compute the remaining biases using the formula $$b_{i+1} = b_{i} + s_{i}(a_{i}-a_{i+1}),$$ where $s_i$ is the split between the projection of the $i$-th and the $i+1$-st data point to the line spanned by the weight."
   ]
  },
  {
   "cell_type": "code",
   "execution_count": 232,
   "metadata": {},
   "outputs": [],
   "source": [
    "def compute_biases(ai, b_0, splits):\n",
    "    biases = np.zeros(ai.shape)\n",
    "    biases[0]=b_0\n",
    "    for i in range(len(ai)-1):\n",
    "        if ai[i] == ai[i+1]:\n",
    "            return None\n",
    "        biases[i+1] = biases[i] + splits[i]*(ai[i]-ai[i+1])\n",
    "    return biases"
   ]
  },
  {
   "cell_type": "code",
   "execution_count": 233,
   "metadata": {},
   "outputs": [
    {
     "data": {
      "text/plain": [
       "array([[0.01      ],\n",
       "       [0.00765226],\n",
       "       [0.12791631]])"
      ]
     },
     "execution_count": 233,
     "metadata": {},
     "output_type": "execute_result"
    }
   ],
   "source": [
    "biases = compute_biases(ai, b_0, splits)\n",
    "biases"
   ]
  },
  {
   "cell_type": "markdown",
   "metadata": {},
   "source": [
    "## Putting it all together\n",
    "\n",
    "Let us define a function `initialize` that takes the parameters:\n",
    "1. `X` ... data given in a form of a matrix,\n",
    "2. `layer_size` ... number of units in the layer,\n",
    "3. `maxout_rank` ... number of linear regions of the maxout activation,\n",
    "4. `b0s` ... the vector of $b_{i, 0}$,\n",
    "\n",
    "and returns the following (in the given order):\n",
    "\n",
    "1. `A` ... `layer_size`$\\times$ `maxout_rank`-array of factors,\n",
    "2. `W` ... array of `layer_size` $d$-dimensional weight vectors (1 per unit),\n",
    "3. `B` ... `layer_size`$\\times$`maxout_rank`-array of biases."
   ]
  },
  {
   "cell_type": "code",
   "execution_count": 258,
   "metadata": {},
   "outputs": [],
   "source": [
    "def initialize_layer(data, layer_size, maxout_rank, b0s):\n",
    "    N, d = data.shape                                       # compute the dimension of the ambient space and #pts\n",
    "    A = np.random.uniform(0, 1, (layer_size, maxout_rank))  # initialize the array of factors\n",
    "    B = np.zeros(shape=(layer_size, maxout_rank))           # initialize the array of biases\n",
    "    batch_size = math.floor(N/maxout_rank)                  # compute the batch size (for computing splits)\n",
    "    \n",
    "    #AW = np.zeros(shape=(layer_size, k, d))\n",
    "    \n",
    "    W = sample_weights(layer_size, d)                       # sample the weights for each unit\n",
    "    \n",
    "    for i in range(layer_size):                                             # loop over all units\n",
    "        projections = calculate_projections(W[i, :], data)                  # calculate proj. of pts onto weight\n",
    "        projections = np.sort(projections)\n",
    "        splits = compute_splits(projections, batch_size, maxout_rank)       # calculate splits between batches\n",
    "        B[i, :] = compute_biases(A[i, :], b0s[i], splits)                   # calculate the biases   \n",
    "        #AW[i] = (np.diag(A[i])*(W[i].transpose() * np.ones((1, d)))).transpose()\n",
    "        \n",
    "    return A, W, B"
   ]
  },
  {
   "cell_type": "code",
   "execution_count": 260,
   "metadata": {},
   "outputs": [],
   "source": [
    "#X2 = np.random.normal(0, 1, (N, 2))\n",
    "b0s = 0.01 * np.ones(m_l)\n",
    "A2, W2, B2 = initialize_layer(X, m_l, k, b0s)"
   ]
  },
  {
   "cell_type": "code",
   "execution_count": 261,
   "metadata": {},
   "outputs": [
    {
     "data": {
      "image/png": "[encoded data removed]",
      "text/plain": [
       "<Figure size 432x288 with 1 Axes>"
      ]
     },
     "metadata": {
      "needs_background": "light"
     },
     "output_type": "display_data"
    }
   ],
   "source": [
    "fig2 = plt.figure()\n",
    "ax2 = fig2.add_subplot()#projection='2d')\n",
    "ax2.set_xlim(left = -3, right = 3)\n",
    "ax2.set_ylim(bottom = -3, top = 3)\n",
    "ax2.scatter(xs, ys, c='black')\n",
    "col = ['red', 'green', 'blue']\n",
    "for j in range(3):    \n",
    "    w1, w2 = W2[j][0], W2[j][1]\n",
    "    x = np.linspace(-3, 3, 2)\n",
    "    for i in range(k-1):\n",
    "        plt.plot(x, (-w1*x - (B2[j][i]-B2[j][i+1])/(A2[j][i]-A2[j][i+1]))/w2, c=col[j])"
   ]
  },
  {
   "cell_type": "markdown",
   "metadata": {},
   "source": [
    "## Initialize network"
   ]
  },
  {
   "cell_type": "code",
   "execution_count": 263,
   "metadata": {},
   "outputs": [],
   "source": [
    "def maxout_image(data, A, W, B):\n",
    "    return data"
   ]
  },
  {
   "cell_type": "code",
   "execution_count": 269,
   "metadata": {},
   "outputs": [],
   "source": [
    "def initialize_network(data, layer_sizes, maxout_ranks, b0s):\n",
    "    AA, WW, BB = [], [], []\n",
    "    for i in range(len(layer_sizes)):\n",
    "        A, W, B = initialize_layer(data, layer_sizes[i], maxout_ranks[i], np.zeros(layer_sizes[i]))\n",
    "        AA += [A]\n",
    "        WW += [W]\n",
    "        BB += [B]\n",
    "        data = maxout_image(data, A, W, B)\n",
    "    return AA, WW, BB"
   ]
  },
  {
   "cell_type": "code",
   "execution_count": 270,
   "metadata": {},
   "outputs": [
    {
     "data": {
      "text/plain": [
       "([array([[0.00415218, 0.52832361, 0.77152587],\n",
       "         [0.03695447, 0.51579776, 0.30624808]]),\n",
       "  array([[0.20606681, 0.62264291, 0.79324421],\n",
       "         [0.22052526, 0.68853444, 0.55853002]])],\n",
       " [array([[0.06179151, 0.99808908],\n",
       "         [0.21531407, 0.97654485]]),\n",
       "  array([[ 0.99774381,  0.06713628],\n",
       "         [-0.15800622,  0.98743812]])],\n",
       " [array([[0.        , 0.25122161, 0.16266435],\n",
       "         [0.        , 0.22008764, 0.30241882]]),\n",
       "  array([[0.        , 0.12616973, 0.03899771],\n",
       "         [0.        , 0.23816235, 0.26935923]])])"
      ]
     },
     "execution_count": 270,
     "metadata": {},
     "output_type": "execute_result"
    }
   ],
   "source": [
    "initialize_network(X, [2, 2], [3, 3], 0)"
   ]
  },
  {
   "cell_type": "code",
   "execution_count": null,
   "metadata": {},
   "outputs": [],
   "source": []
  }
 ],
 "metadata": {
  "kernelspec": {
   "display_name": "Python 3",
   "language": "python",
   "name": "python3"
  },
  "language_info": {
   "codemirror_mode": {
    "name": "ipython",
    "version": 3
   },
   "file_extension": ".py",
   "mimetype": "text/x-python",
   "name": "python",
   "nbconvert_exporter": "python",
   "pygments_lexer": "ipython3",
   "version": "3.8.5"
  }
 },
 "nbformat": 4,
 "nbformat_minor": 4
}
